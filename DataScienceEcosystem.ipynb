{
 "cells": [
  {
   "cell_type": "markdown",
   "id": "576a1076-d994-42ae-8795-071613014045",
   "metadata": {},
   "source": [
    "# Data Science Tools and Ecosystem"
   ]
  },
  {
   "cell_type": "markdown",
   "id": "51593b81-1e0d-4156-b481-0fa0d82e4645",
   "metadata": {},
   "source": [
    "In this notebook, Data Science Tools and Ecosystem are summarized."
   ]
  },
  {
   "cell_type": "markdown",
   "id": "3952de84-3dd5-4f8c-9684-c6ef83a4ca5d",
   "metadata": {},
   "source": [
    " **Objectives:**\n",
    " - R\n",
    " - SQL\n",
    " - Java\n",
    " - Julia\n",
    " - Scala"
   ]
  },
  {
   "cell_type": "markdown",
   "id": "33fb30cc-07d5-43e6-81f0-d6a86b8c2230",
   "metadata": {},
   "source": [
    "Some of the popular languages that data Scientists use ar"
   ]
  },
  {
   "cell_type": "markdown",
   "id": "d99c3bbd-6862-476c-8d7a-7a59f34158fd",
   "metadata": {},
   "source": [
    "1. Python\n",
    "2. R\n",
    "3. C++"
   ]
  },
  {
   "cell_type": "markdown",
   "id": "b212efed-bf1d-4b92-8fbe-29be0884ef44",
   "metadata": {},
   "source": [
    "Some of the commonly used libraries used by Data Scientists include:"
   ]
  },
  {
   "cell_type": "markdown",
   "id": "ccd4a2f5-502a-4754-b3a9-e83278d75d79",
   "metadata": {},
   "source": [
    "1. Numpy\n",
    "2. Scipy\n",
    "3. Pandas"
   ]
  },
  {
   "cell_type": "markdown",
   "id": "509e5de7-48b3-4a94-9ffa-aa24d88425c3",
   "metadata": {},
   "source": [
    "| Data Scienice Tools|\n",
    "|--------------------|\n",
    "|Rstudio|\n",
    "|Apache Spark|\n",
    "|Apache Hadoop|"
   ]
  },
  {
   "cell_type": "markdown",
   "id": "d2b56895-fc01-45e0-b710-025f73b56de1",
   "metadata": {},
   "source": [
    "### Below are few examples of evaluating arithmetic expressions in Python"
   ]
  },
  {
   "cell_type": "markdown",
   "id": "7ec63f29-3349-4fb5-97a9-1808885be48d",
   "metadata": {},
   "source": [
    "This a Simple arithmetic expression to multiply then add integers\n"
   ]
  },
  {
   "cell_type": "code",
   "execution_count": 2,
   "id": "6af9c6be-b64f-406d-a706-bc7e1a8c576d",
   "metadata": {
    "tags": []
   },
   "outputs": [
    {
     "data": {
      "text/plain": [
       "17"
      ]
     },
     "execution_count": 2,
     "metadata": {},
     "output_type": "execute_result"
    }
   ],
   "source": [
    "(3*4)+5"
   ]
  },
  {
   "cell_type": "markdown",
   "id": "7c642b3b-49b6-44bb-a0da-a630577beabd",
   "metadata": {},
   "source": [
    "This will convert 200 minutes to hours by dividing by 60"
   ]
  },
  {
   "cell_type": "code",
   "execution_count": 3,
   "id": "c0eb84c0-32d3-4c67-b69b-95d5aa85aef1",
   "metadata": {
    "tags": []
   },
   "outputs": [
    {
     "data": {
      "text/plain": [
       "3.3333333333333335"
      ]
     },
     "execution_count": 3,
     "metadata": {},
     "output_type": "execute_result"
    }
   ],
   "source": [
    "200/60"
   ]
  },
  {
   "cell_type": "markdown",
   "id": "e80425f6-5fdf-4daf-9ad6-4cb315b9f615",
   "metadata": {
    "tags": []
   },
   "source": [
    "## Author\n",
    "Mohammad Ismailzada"
   ]
  },
  {
   "cell_type": "code",
   "execution_count": null,
   "id": "f96f58fe-223a-4dfe-8756-b39de9ea976d",
   "metadata": {},
   "outputs": [],
   "source": []
  }
 ],
 "metadata": {
  "kernelspec": {
   "display_name": "Python",
   "language": "python",
   "name": "conda-env-python-py"
  },
  "language_info": {
   "codemirror_mode": {
    "name": "ipython",
    "version": 3
   },
   "file_extension": ".py",
   "mimetype": "text/x-python",
   "name": "python",
   "nbconvert_exporter": "python",
   "pygments_lexer": "ipython3",
   "version": "3.7.12"
  }
 },
 "nbformat": 4,
 "nbformat_minor": 5
}
